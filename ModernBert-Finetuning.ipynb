{
 "cells": [
  {
   "cell_type": "markdown",
   "id": "9e919215-3e53-43c3-99f2-9ddc94a6cdf5",
   "metadata": {
    "execution": {
     "iopub.execute_input": "2025-06-26T12:30:48.359760Z",
     "iopub.status.busy": "2025-06-26T12:30:48.359473Z",
     "iopub.status.idle": "2025-06-26T12:30:48.603992Z",
     "shell.execute_reply": "2025-06-26T12:30:48.603001Z",
     "shell.execute_reply.started": "2025-06-26T12:30:48.359738Z"
    }
   },
   "source": [
    "# Finetune-ModenBert-For-Intent-Classification"
   ]
  },
  {
   "cell_type": "markdown",
   "id": "480c5341-62a7-4fd1-a4cb-eb2c897dfb8a",
   "metadata": {},
   "source": [
    "The recent high-profile advances in LLMs have been in models like GPT, Llama, and Claude. Yet compact, task-specific models continue to play a vital role, especially for classification purposes when building practical and economical AI solutions. One key use case in modern applications is a Router Agent. A Router is a model that classifies user prompt ('intent') and forwards it to to the most appropriate Sub-Agent for handling. Smaller Models are very good fit for usecases where fast, accurate classification is essential.\n",
    "\n",
    "I'll show you how to customize ModernBERT for classifying user queries to create a smart LLM routing system. As an enhanced iteration of BERT technology, ModernBERT offers expanded context capacity of 8192 tokens, superior performance on tasks, and enhanced processing efficiency.\n"
   ]
  },
  {
   "cell_type": "markdown",
   "id": "4bc674ff-ede3-4f62-9baf-c2de93b7c5c7",
   "metadata": {},
   "source": [
    "**A Brief Look at ModernBERT**\n",
    "\n",
    "ModernBERT represents a significant advancement in encoder model technology, offering full backwards compatibility while introducing several major architectural improvements over the original BERT. The model comes in two variations:\n",
    "\n",
    "    ModernBERT Base (149M parameters)\n",
    "    ModernBERT Large (395M parameters)\n",
    "\n",
    "Key Technical Innovations:\n",
    "- Rotary Positional Embeddings (RoPE) replace traditional positional encodings, enabling better understanding of word relationships and supporting longer sequences\n",
    "- Alternating Attention patterns that combine global and local attention every 3 layers, significantly improving processing efficiency\n",
    "- GeGLU layers replace traditional MLP layers, enhancing the original BERT's GeLU activation function\n",
    "- Streamlined architecture with removed bias terms for more efficient parameter usage\n",
    "- Additional normalization layer after embeddings for improved training stability\n",
    "- Advanced sequence packing and unpadding techniques that reduce computational waste\n",
    "- Hardware-optimized design that better aligns with modern GPU architectures\n",
    "\n",
    "The model sets new performance standards in classification, retrieval, and code comprehension tasks, operating 2-4 times faster than previous encoders. This combination of speed and accuracy makes it ideal for high-volume production applications such as LLM routing, where both performance metrics are crucial.\n",
    "\n",
    "What sets ModernBERT apart is its extensive training on 2 trillion tokens from diverse sources, including web content, programming code, and academic literature. This broad training foundation - significantly more varied than traditional BERT models' Wikipedia-centric approach - enables better understanding of user inputs across multiple domains. The model also features an impressive 8,192 token context length, which is 16 times larger than most existing encoders.\n",
    "\n",
    "For detailed information about ModernBERT's architecture and development, you can find documentation on the [Hugging Face hub](https://huggingface.co/blog/modernbert)."
   ]
  },
  {
   "cell_type": "code",
   "execution_count": 3,
   "id": "0a162c8c-beba-4b69-89d4-dd240b1489f5",
   "metadata": {
    "execution": {
     "iopub.execute_input": "2025-08-04T15:49:30.232045Z",
     "iopub.status.busy": "2025-08-04T15:49:30.231704Z",
     "iopub.status.idle": "2025-08-04T15:49:30.235499Z",
     "shell.execute_reply": "2025-08-04T15:49:30.234404Z",
     "shell.execute_reply.started": "2025-08-04T15:49:30.232021Z"
    }
   },
   "outputs": [],
   "source": [
    "# Install libraries\n",
    "# %pip install torch==2.6.0\n",
    "# %pip install -r requirements.txt\n",
    "# %pip install -U sagemaker awscli -q 2>&1 | grep -v \"warnings/venv\""
   ]
  },
  {
   "cell_type": "code",
   "execution_count": 4,
   "id": "cd43949d-0fae-4066-9b22-866327d9b84e",
   "metadata": {
    "execution": {
     "iopub.execute_input": "2025-08-04T15:49:31.149426Z",
     "iopub.status.busy": "2025-08-04T15:49:31.148663Z",
     "iopub.status.idle": "2025-08-04T15:49:36.754875Z",
     "shell.execute_reply": "2025-08-04T15:49:36.754173Z",
     "shell.execute_reply.started": "2025-08-04T15:49:31.149398Z"
    }
   },
   "outputs": [
    {
     "data": {
      "text/plain": [
       "'2.7.1+cu126'"
      ]
     },
     "execution_count": 4,
     "metadata": {},
     "output_type": "execute_result"
    }
   ],
   "source": [
    "import torch\n",
    "torch.__version__"
   ]
  },
  {
   "cell_type": "code",
   "execution_count": 62,
   "id": "d96d366f-8d3a-4dbb-99f4-c4c80db83768",
   "metadata": {
    "execution": {
     "iopub.execute_input": "2025-08-04T17:10:11.186781Z",
     "iopub.status.busy": "2025-08-04T17:10:11.186489Z",
     "iopub.status.idle": "2025-08-04T17:10:11.771444Z",
     "shell.execute_reply": "2025-08-04T17:10:11.770692Z",
     "shell.execute_reply.started": "2025-08-04T17:10:11.186760Z"
    }
   },
   "outputs": [],
   "source": [
    "\n",
    "import logging\n",
    "sagemaker_config_logger = logging.getLogger(\"sagemaker.config\")\n",
    "sagemaker_config_logger.setLevel(logging.WARNING)\n",
    "\n",
    "# Import SageMaker SDK, setup our session\n",
    "from sagemaker import get_execution_role, Session\n",
    "from sagemaker.pytorch import PyTorch\n",
    "import boto3\n",
    "\n",
    "sess = Session(boto_session=boto3.Session())\n",
    "default_bucket = sess.default_bucket()\n",
    "\n",
    "# print(sess.boto_region_name)\n",
    "# print(default_bucket)\n",
    "# print(get_execution_role())"
   ]
  },
  {
   "cell_type": "markdown",
   "id": "6612e0a2-c2a4-4224-99f4-8fa7f4793eb5",
   "metadata": {},
   "source": [
    "# 1. Dataset Prep"
   ]
  },
  {
   "cell_type": "markdown",
   "id": "8bbaabb5-c346-4e6e-a7f3-e119dd866936",
   "metadata": {},
   "source": [
    "## 1.1 Loading the training dataset"
   ]
  },
  {
   "cell_type": "code",
   "execution_count": 6,
   "id": "3ab5d4ec-73f1-4b1f-916a-b102ba3f0d44",
   "metadata": {
    "execution": {
     "iopub.execute_input": "2025-08-04T15:49:45.659229Z",
     "iopub.status.busy": "2025-08-04T15:49:45.658683Z",
     "iopub.status.idle": "2025-08-04T15:49:46.924647Z",
     "shell.execute_reply": "2025-08-04T15:49:46.923807Z",
     "shell.execute_reply.started": "2025-08-04T15:49:45.659205Z"
    }
   },
   "outputs": [
    {
     "data": {
      "text/plain": [
       "DatasetDict({\n",
       "    train: Dataset({\n",
       "        features: ['instruction', 'intent', 'category', 'tags', 'response'],\n",
       "        num_rows: 31658\n",
       "    })\n",
       "})"
      ]
     },
     "execution_count": 6,
     "metadata": {},
     "output_type": "execute_result"
    }
   ],
   "source": [
    "from datasets import load_dataset, DatasetDict\n",
    " \n",
    "# Dataset id from huggingface.co/dataset\n",
    "dataset_id = \"bitext/Bitext-travel-llm-chatbot-training-dataset\"\n",
    " \n",
    "# Load raw dataset\n",
    "raw_dataset = load_dataset(dataset_id)\n",
    "\n",
    "raw_dataset"
   ]
  },
  {
   "cell_type": "markdown",
   "id": "a41cce0f-47d9-474a-9032-bde0487e3d30",
   "metadata": {
    "execution": {
     "iopub.execute_input": "2025-08-04T11:50:14.951233Z",
     "iopub.status.busy": "2025-08-04T11:50:14.950942Z",
     "iopub.status.idle": "2025-08-04T11:50:14.954981Z",
     "shell.execute_reply": "2025-08-04T11:50:14.954089Z",
     "shell.execute_reply.started": "2025-08-04T11:50:14.951211Z"
    }
   },
   "source": [
    "## 1.2 Split Dataset into training and testing sets"
   ]
  },
  {
   "cell_type": "code",
   "execution_count": 7,
   "id": "533e80ea-54f9-4c5f-861d-c10ab488d0fc",
   "metadata": {
    "execution": {
     "iopub.execute_input": "2025-08-04T15:49:51.199244Z",
     "iopub.status.busy": "2025-08-04T15:49:51.198308Z",
     "iopub.status.idle": "2025-08-04T15:49:51.219684Z",
     "shell.execute_reply": "2025-08-04T15:49:51.218928Z",
     "shell.execute_reply.started": "2025-08-04T15:49:51.199212Z"
    }
   },
   "outputs": [
    {
     "name": "stdout",
     "output_type": "stream",
     "text": [
      "Train set size: 25326\n",
      "Test set size: 6332\n"
     ]
    }
   ],
   "source": [
    "# Schuffle dataset then split into train and test with 80:20 split\n",
    "split_dataset = raw_dataset['train'].train_test_split(test_size=0.2, shuffle=True, seed=42)\n",
    "    \n",
    "# Create a new dataset dictionary with the splits\n",
    "raw_dataset = DatasetDict({\n",
    "    'train': split_dataset['train'],\n",
    "    'test': split_dataset['test']\n",
    "})\n",
    "\n",
    "\n",
    "# Now you can use dataset['train'] and dataset['test']\n",
    "print(f\"Train set size: {len(raw_dataset['train'])}\")\n",
    "print(f\"Test set size: {len(raw_dataset['test'])}\")\n"
   ]
  },
  {
   "cell_type": "code",
   "execution_count": 8,
   "id": "93bf3c90-ee33-4ec1-8b37-8d6d94f2af17",
   "metadata": {
    "execution": {
     "iopub.execute_input": "2025-08-04T15:49:52.638805Z",
     "iopub.status.busy": "2025-08-04T15:49:52.638434Z",
     "iopub.status.idle": "2025-08-04T15:49:52.644062Z",
     "shell.execute_reply": "2025-08-04T15:49:52.643114Z",
     "shell.execute_reply.started": "2025-08-04T15:49:52.638780Z"
    }
   },
   "outputs": [
    {
     "data": {
      "text/plain": [
       "DatasetDict({\n",
       "    train: Dataset({\n",
       "        features: ['instruction', 'intent', 'category', 'tags', 'response'],\n",
       "        num_rows: 25326\n",
       "    })\n",
       "    test: Dataset({\n",
       "        features: ['instruction', 'intent', 'category', 'tags', 'response'],\n",
       "        num_rows: 6332\n",
       "    })\n",
       "})"
      ]
     },
     "execution_count": 8,
     "metadata": {},
     "output_type": "execute_result"
    }
   ],
   "source": [
    "raw_dataset"
   ]
  },
  {
   "cell_type": "markdown",
   "id": "74cfc33d-022b-45a4-b475-bfb7a49eb8b5",
   "metadata": {},
   "source": [
    "## 1.3 Modify column names and remove non-required columns"
   ]
  },
  {
   "cell_type": "code",
   "execution_count": 9,
   "id": "51264e9b-5a70-48a8-9fbf-a27da7a74419",
   "metadata": {
    "execution": {
     "iopub.execute_input": "2025-08-04T15:49:57.522722Z",
     "iopub.status.busy": "2025-08-04T15:49:57.522442Z",
     "iopub.status.idle": "2025-08-04T15:50:00.932574Z",
     "shell.execute_reply": "2025-08-04T15:50:00.931835Z",
     "shell.execute_reply.started": "2025-08-04T15:49:57.522702Z"
    }
   },
   "outputs": [
    {
     "data": {
      "application/vnd.jupyter.widget-view+json": {
       "model_id": "61f4468435004715bb4037d9737841da",
       "version_major": 2,
       "version_minor": 0
      },
      "text/plain": [
       "Map:   0%|          | 0/25326 [00:00<?, ? examples/s]"
      ]
     },
     "metadata": {},
     "output_type": "display_data"
    },
    {
     "data": {
      "application/vnd.jupyter.widget-view+json": {
       "model_id": "2a3577502e3d45739bb04ee6428989c5",
       "version_major": 2,
       "version_minor": 0
      },
      "text/plain": [
       "Map:   0%|          | 0/6332 [00:00<?, ? examples/s]"
      ]
     },
     "metadata": {},
     "output_type": "display_data"
    },
    {
     "name": "stdout",
     "output_type": "stream",
     "text": [
      "\n",
      "Modified Dataset Structure:\n",
      "DatasetDict({\n",
      "    train: Dataset({\n",
      "        features: ['text', 'labels'],\n",
      "        num_rows: 25326\n",
      "    })\n",
      "    test: Dataset({\n",
      "        features: ['text', 'labels'],\n",
      "        num_rows: 6332\n",
      "    })\n",
      "})\n"
     ]
    }
   ],
   "source": [
    "# Function to modify the dataset\n",
    "def modify_dataset(example):\n",
    "    return {\n",
    "        'text': example['instruction'],  # rename instruction to prompt\n",
    "        'labels': example['category']\n",
    "    }\n",
    "\n",
    "# Apply the transformation to both train and test sets\n",
    "filtered_dataset = raw_dataset.map(modify_dataset, \n",
    "                             remove_columns=['intent', 'instruction', 'category', 'tags', 'response'])\n",
    "\n",
    "print(\"\\nModified Dataset Structure:\")\n",
    "print(filtered_dataset)"
   ]
  },
  {
   "cell_type": "markdown",
   "id": "e0484f63-b1bf-450f-a474-0fbf3600fb26",
   "metadata": {},
   "source": [
    "## 3.4 Inspect dataset"
   ]
  },
  {
   "cell_type": "code",
   "execution_count": 10,
   "id": "3303fb45-5bce-4d34-a131-664335d4897e",
   "metadata": {
    "execution": {
     "iopub.execute_input": "2025-08-04T15:50:03.981148Z",
     "iopub.status.busy": "2025-08-04T15:50:03.980776Z",
     "iopub.status.idle": "2025-08-04T15:50:05.690484Z",
     "shell.execute_reply": "2025-08-04T15:50:05.689428Z",
     "shell.execute_reply.started": "2025-08-04T15:50:03.981124Z"
    }
   },
   "outputs": [
    {
     "data": {
      "text/html": [
       "<div>\n",
       "<style scoped>\n",
       "    .dataframe tbody tr th:only-of-type {\n",
       "        vertical-align: middle;\n",
       "    }\n",
       "\n",
       "    .dataframe tbody tr th {\n",
       "        vertical-align: top;\n",
       "    }\n",
       "\n",
       "    .dataframe thead th {\n",
       "        text-align: right;\n",
       "    }\n",
       "</style>\n",
       "<table border=\"1\" class=\"dataframe\">\n",
       "  <thead>\n",
       "    <tr style=\"text-align: right;\">\n",
       "      <th></th>\n",
       "      <th>text</th>\n",
       "      <th>labels</th>\n",
       "    </tr>\n",
       "  </thead>\n",
       "  <tbody>\n",
       "    <tr>\n",
       "      <th>0</th>\n",
       "      <td>I want to know more about my flight insurance ...</td>\n",
       "      <td>FLIGHT</td>\n",
       "    </tr>\n",
       "    <tr>\n",
       "      <th>1</th>\n",
       "      <td>i want information about the cancellation char...</td>\n",
       "      <td>CANCELLATION_FEE</td>\n",
       "    </tr>\n",
       "    <tr>\n",
       "      <th>2</th>\n",
       "      <td>id like to check in by phone where could i do it</td>\n",
       "      <td>CHECK_IN</td>\n",
       "    </tr>\n",
       "    <tr>\n",
       "      <th>3</th>\n",
       "      <td>I'm looking for a fucking travel insurance, he...</td>\n",
       "      <td>TRIP</td>\n",
       "    </tr>\n",
       "    <tr>\n",
       "      <th>4</th>\n",
       "      <td>could you help me getting my fucking boarding ...</td>\n",
       "      <td>BOARDING_PASS</td>\n",
       "    </tr>\n",
       "  </tbody>\n",
       "</table>\n",
       "</div>"
      ],
      "text/plain": [
       "                                                text            labels\n",
       "0  I want to know more about my flight insurance ...            FLIGHT\n",
       "1  i want information about the cancellation char...  CANCELLATION_FEE\n",
       "2   id like to check in by phone where could i do it          CHECK_IN\n",
       "3  I'm looking for a fucking travel insurance, he...              TRIP\n",
       "4  could you help me getting my fucking boarding ...     BOARDING_PASS"
      ]
     },
     "execution_count": 10,
     "metadata": {},
     "output_type": "execute_result"
    }
   ],
   "source": [
    "import pandas as pd\n",
    "import matplotlib.pyplot as plt\n",
    "\n",
    "# Convert to pandas DataFrames\n",
    "train_df = pd.DataFrame(filtered_dataset['train'])\n",
    "test_df = pd.DataFrame(filtered_dataset['test'])\n",
    "\n",
    "\n",
    "train_df.head()"
   ]
  },
  {
   "cell_type": "markdown",
   "id": "3013649e-af4b-4c17-ac44-887bb951216c",
   "metadata": {
    "execution": {
     "iopub.execute_input": "2025-08-04T15:50:51.301901Z",
     "iopub.status.busy": "2025-08-04T15:50:51.301066Z",
     "iopub.status.idle": "2025-08-04T15:50:51.305106Z",
     "shell.execute_reply": "2025-08-04T15:50:51.304377Z",
     "shell.execute_reply.started": "2025-08-04T15:50:51.301870Z"
    }
   },
   "source": [
    "## 3.5 Plot label distribution in train and test datasets"
   ]
  },
  {
   "cell_type": "markdown",
   "id": "471d83d8-a9ec-434a-80c4-7fd2e2d63ba3",
   "metadata": {},
   "source": [
    "We notice from the plot below that train and test distributions are quite similar, which is good. However, we also notice a class imbalance where ~70% of the dataset queries are related to FLIGHT and TRIP topics. This is likely to have an adverse impact on the quality of our predictions if not taken into account during training. While in this notebook we will not account for the class imbalance, it's highly advised to check for class imbalance in your dataset and account for it in your loss function.See [here](https://discuss.huggingface.co/t/create-a-weighted-loss-function-to-handle-imbalance/138178) for inspiration."
   ]
  },
  {
   "cell_type": "code",
   "execution_count": 11,
   "id": "0e5e3bec-2159-4d2f-b8ae-90c32ba82dbc",
   "metadata": {
    "execution": {
     "iopub.execute_input": "2025-08-04T15:50:12.052249Z",
     "iopub.status.busy": "2025-08-04T15:50:12.051769Z",
     "iopub.status.idle": "2025-08-04T15:50:12.407449Z",
     "shell.execute_reply": "2025-08-04T15:50:12.406682Z",
     "shell.execute_reply.started": "2025-08-04T15:50:12.052226Z"
    }
   },
   "outputs": [
    {
     "data": {
      "image/png": "[encoded data removed]",
      "text/plain": [
       "<Figure size 1200x600 with 1 Axes>"
      ]
     },
     "metadata": {},
     "output_type": "display_data"
    }
   ],
   "source": [
    "def plot_category_distribution(train_df, test_df, top_n=10):\n",
    "    # Get category counts and calculate percentages\n",
    "    train_total = len(train_df)\n",
    "    test_total = len(test_df)\n",
    "    train_pct = (train_df['labels'].value_counts() / train_total) * 100\n",
    "    test_pct = (test_df['labels'].value_counts() / test_total) * 100\n",
    "\n",
    "    # Combine percentages\n",
    "    combined_pct = pd.DataFrame({\n",
    "        'Train': train_pct,\n",
    "        'Test': test_pct\n",
    "    }).fillna(0)\n",
    "\n",
    "    # Sort by total percentage and get top N categories\n",
    "    combined_pct['Total'] = combined_pct['Train'] + combined_pct['Test']\n",
    "    top_categories = combined_pct.nlargest(top_n, 'Total')\n",
    "\n",
    "    # Create plot\n",
    "    plt.figure(figsize=(12, 6))\n",
    "    bar_width = 0.35\n",
    "    index = range(len(top_categories))\n",
    "\n",
    "    # Plot bars\n",
    "    train_bars = plt.bar(index, top_categories['Train'], bar_width, label='Train', alpha=0.8)\n",
    "    test_bars = plt.bar([i + bar_width for i in index], top_categories['Test'], bar_width, label='Test', alpha=0.8)\n",
    "\n",
    "    plt.xlabel('Intents')\n",
    "    plt.ylabel('Percentage')\n",
    "    plt.title(f'Top {top_n} Category Distribution (%) in Train and Test Sets')\n",
    "    plt.xticks([i + bar_width/2 for i in index], top_categories.index, rotation=45, ha='right')\n",
    "    plt.legend()\n",
    "\n",
    "    plt.tight_layout()\n",
    "    plt.show()\n",
    "\n",
    "# Usage\n",
    "plot_category_distribution(train_df, test_df, top_n=10)\n"
   ]
  },
  {
   "cell_type": "markdown",
   "id": "8a179a76-a6f9-49a0-9ffd-7ddbc61b0b2b",
   "metadata": {},
   "source": [
    "## 3.6 Plot token counts in train and test datasets"
   ]
  },
  {
   "cell_type": "markdown",
   "id": "3e8a2f45-47b7-4ef5-9f07-ff9cd99daee4",
   "metadata": {},
   "source": [
    "Below, we will look at the number of tokens in our train and test data. This helps us understand the `max_seq_length` expected during training and inference. From the plot below, we see that the largest user prompt in both train and test sets had 36 tokens. This is far below the 8,192 token context length that ModernBERT can handle. If we do not specify the `max_model_length` parameter to our tokenizer, it will assume the worst-case scenario (8192) and will simply use a padding token to fill the remaining space. So even though the input sequence is at most 36 tokens, the tokenizer will pass a vector of size 8192 to the LLM (mostly filled with PAD tokens). This will consume excessive memory during training and inference.\n",
    "\n",
    "To avoid excessive memory use, we will simply set our max context length `max_model_length` to 64. While this is 2x the expected tokens (to be on the safe side), it's still significantly lower than 8192. See section 2.2 where we actually set this hyperparameter."
   ]
  },
  {
   "cell_type": "code",
   "execution_count": 13,
   "id": "7efefac9-417b-4696-8f43-3b09408fb852",
   "metadata": {
    "execution": {
     "iopub.execute_input": "2025-08-04T15:51:32.255887Z",
     "iopub.status.busy": "2025-08-04T15:51:32.255519Z",
     "iopub.status.idle": "2025-08-04T15:51:41.077811Z",
     "shell.execute_reply": "2025-08-04T15:51:41.076899Z",
     "shell.execute_reply.started": "2025-08-04T15:51:32.255865Z"
    }
   },
   "outputs": [
    {
     "data": {
      "text/plain": [
       "[]"
      ]
     },
     "execution_count": 13,
     "metadata": {},
     "output_type": "execute_result"
    },
    {
     "data": {
      "image/png": "[encoded data removed]",
      "text/plain": [
       "<Figure size 640x480 with 1 Axes>"
      ]
     },
     "metadata": {},
     "output_type": "display_data"
    }
   ],
   "source": [
    "from transformers import AutoTokenizer\n",
    "\n",
    "model_id = \"answerdotai/ModernBERT-base\"\n",
    "tokenizer = AutoTokenizer.from_pretrained(model_id)\n",
    "\n",
    "def get_token_lengths(dataset):\n",
    "    lengths = []\n",
    "    for example in dataset['text']:\n",
    "        tokens = tokenizer.encode(example)\n",
    "        lengths.append(len(tokens))\n",
    "    return lengths\n",
    "\n",
    "pd.Series(get_token_lengths(train_df)).plot.hist(label=\"train\")\n",
    "pd.Series(get_token_lengths(test_df)).plot.hist(label=\"test\")\n",
    "plt.legend()\n",
    "plt.plot()"
   ]
  },
  {
   "cell_type": "markdown",
   "id": "dcbbe7c6-0261-4c36-80dc-f329be1ad27e",
   "metadata": {
    "execution": {
     "iopub.execute_input": "2025-08-04T11:53:03.369987Z",
     "iopub.status.busy": "2025-08-04T11:53:03.368119Z",
     "iopub.status.idle": "2025-08-04T11:53:03.374688Z",
     "shell.execute_reply": "2025-08-04T11:53:03.373194Z",
     "shell.execute_reply.started": "2025-08-04T11:53:03.369899Z"
    }
   },
   "source": [
    "## 3.5 Save dataset to s3"
   ]
  },
  {
   "cell_type": "code",
   "execution_count": 14,
   "id": "0af55394-498e-47dd-9baf-0f72ee7ea293",
   "metadata": {
    "execution": {
     "iopub.execute_input": "2025-08-04T15:52:49.866980Z",
     "iopub.status.busy": "2025-08-04T15:52:49.865130Z",
     "iopub.status.idle": "2025-08-04T15:52:50.493888Z",
     "shell.execute_reply": "2025-08-04T15:52:50.492874Z",
     "shell.execute_reply.started": "2025-08-04T15:52:49.866938Z"
    }
   },
   "outputs": [
    {
     "data": {
      "application/vnd.jupyter.widget-view+json": {
       "model_id": "f0c739e85dd84112b456f721520abd08",
       "version_major": 2,
       "version_minor": 0
      },
      "text/plain": [
       "Saving the dataset (0/1 shards):   0%|          | 0/25326 [00:00<?, ? examples/s]"
      ]
     },
     "metadata": {},
     "output_type": "display_data"
    },
    {
     "data": {
      "application/vnd.jupyter.widget-view+json": {
       "model_id": "6439aa87d57c4425b8e2f5b0a866496d",
       "version_major": 2,
       "version_minor": 0
      },
      "text/plain": [
       "Saving the dataset (0/1 shards):   0%|          | 0/6332 [00:00<?, ? examples/s]"
      ]
     },
     "metadata": {},
     "output_type": "display_data"
    },
    {
     "name": "stdout",
     "output_type": "stream",
     "text": [
      "s3://sagemaker-us-east-2-207567795090/datasets/train s3://sagemaker-us-east-2-207567795090/datasets/test\n"
     ]
    }
   ],
   "source": [
    "# Create full S3 paths\n",
    "s3_path_train = f\"s3://{default_bucket}/datasets/train\"\n",
    "s3_path_test = f\"s3://{default_bucket}/datasets/test\"\n",
    "\n",
    "# Save dataset\n",
    "filtered_dataset['train'].save_to_disk(s3_path_train)\n",
    "filtered_dataset['test'].save_to_disk(s3_path_test)\n",
    "\n",
    "print(s3_path_train, s3_path_test)"
   ]
  },
  {
   "cell_type": "code",
   "execution_count": null,
   "id": "f38d31af-b60e-4ca1-9fb8-621b9066b9ec",
   "metadata": {},
   "outputs": [],
   "source": []
  },
  {
   "cell_type": "markdown",
   "id": "f29ec839-26a6-432d-bff4-2670286c9b8f",
   "metadata": {},
   "source": [
    "# 2. Finetune the Model using train dataset"
   ]
  },
  {
   "cell_type": "markdown",
   "id": "561588e9-fcb5-4124-8f35-1a1449f13389",
   "metadata": {},
   "source": [
    "# 2.1 Create the training script"
   ]
  },
  {
   "cell_type": "code",
   "execution_count": 53,
   "id": "e0be3385-0791-4dca-8042-297ed57c722b",
   "metadata": {
    "execution": {
     "iopub.execute_input": "2025-08-04T16:59:32.740659Z",
     "iopub.status.busy": "2025-08-04T16:59:32.740350Z",
     "iopub.status.idle": "2025-08-04T16:59:32.751822Z",
     "shell.execute_reply": "2025-08-04T16:59:32.750908Z",
     "shell.execute_reply.started": "2025-08-04T16:59:32.740630Z"
    }
   },
   "outputs": [
    {
     "data": {
      "text/plain": [
       "\u001b[38;5;28;01mimport\u001b[39;00m sys\n",
       "\u001b[38;5;28;01mimport\u001b[39;00m os\n",
       "\u001b[38;5;28;01mimport\u001b[39;00m random\n",
       "\u001b[38;5;28;01mimport\u001b[39;00m warnings\n",
       "\u001b[38;5;28;01mimport\u001b[39;00m argparse\n",
       "\u001b[38;5;28;01mfrom\u001b[39;00m random \u001b[38;5;28;01mimport\u001b[39;00m randrange\n",
       "\u001b[38;5;28;01mimport\u001b[39;00m os\n",
       "\u001b[38;5;28;01mimport\u001b[39;00m warnings\n",
       "\u001b[38;5;28;01mimport\u001b[39;00m random\n",
       "\u001b[38;5;28;01mimport\u001b[39;00m torch\n",
       "\u001b[38;5;28;01mimport\u001b[39;00m logging\n",
       "\n",
       "\n",
       "\u001b[38;5;28;01mimport\u001b[39;00m numpy \u001b[38;5;28;01mas\u001b[39;00m np\n",
       "\u001b[38;5;28;01mfrom\u001b[39;00m sklearn.metrics \u001b[38;5;28;01mimport\u001b[39;00m f1_score\n",
       "\u001b[38;5;28;01mfrom\u001b[39;00m datasets \u001b[38;5;28;01mimport\u001b[39;00m load_from_disk, Dataset\n",
       "\u001b[38;5;28;01mfrom\u001b[39;00m transformers \u001b[38;5;28;01mimport\u001b[39;00m (\n",
       "    AutoTokenizer, \n",
       "    AutoModelForSequenceClassification, \n",
       "    AutoConfig,\n",
       "    Trainer, \n",
       "    TrainingArguments,\n",
       "    EarlyStoppingCallback,\n",
       "    set_seed\n",
       ")\n",
       "\n",
       "os.environ[\u001b[33m\"TOKENIZERS_PARALLELISM\"\u001b[39m] = \u001b[33m\"false\"\u001b[39m\n",
       "\n",
       "\u001b[38;5;66;03m# Set up logging\u001b[39;00m\n",
       "logger = logging.getLogger(__name__)\n",
       "\n",
       "logging.basicConfig(\n",
       "    level=logging.getLevelName(\u001b[33m\"INFO\"\u001b[39m),\n",
       "    handlers=[logging.StreamHandler(sys.stdout)],\n",
       "    format=\u001b[33m\"%(asctime)s - %(name)s - %(levelname)s - %(message)s\"\u001b[39m,\n",
       ")\n",
       "\n",
       "\u001b[38;5;66;03m# Filter out the specific PyTorch warning about scalar tensors\u001b[39;00m\n",
       "warnings.filterwarnings(\u001b[33m'ignore'\u001b[39m, message=\u001b[33m'Was asked to gather along dimension 0, but all input tensors were scalars; will instead unsqueeze and return a vector.'\u001b[39m)\n",
       "\n",
       "\n",
       "\u001b[38;5;28;01mdef\u001b[39;00m set_random_seed(seed=\u001b[32m42\u001b[39m):\n",
       "    \u001b[33m\"\"\"Set random seed for reproducibility.\"\"\"\u001b[39m\n",
       "    random.seed(seed)\n",
       "    np.random.seed(seed)\n",
       "    torch.manual_seed(seed)\n",
       "    torch.cuda.manual_seed_all(seed)\n",
       "    set_seed(seed)  \u001b[38;5;66;03m# transformers library seed\u001b[39;00m\n",
       "\n",
       "    \u001b[38;5;66;03m# Make PyTorch deterministic\u001b[39;00m\n",
       "    torch.backends.cudnn.deterministic = \u001b[38;5;28;01mTrue\u001b[39;00m\n",
       "    torch.backends.cudnn.benchmark = \u001b[38;5;28;01mFalse\u001b[39;00m\n",
       "\n",
       "\n",
       "\u001b[38;5;28;01mdef\u001b[39;00m setup_tokenizer(model_id, model_max_length):\n",
       "    \u001b[33m\"\"\"Initialize and configure the tokenizer.\"\"\"\u001b[39m\n",
       "    tokenizer = AutoTokenizer.from_pretrained(model_id)\n",
       "    tokenizer.model_max_length = model_max_length  \u001b[38;5;66;03m# set max_length for prompts\u001b[39;00m\n",
       "    \u001b[38;5;28;01mreturn\u001b[39;00m tokenizer\n",
       "\n",
       "\u001b[38;5;28;01mdef\u001b[39;00m tokenize_dataset(dataset, tokenizer):\n",
       "    \u001b[33m\"\"\"Tokenize the dataset using the provided tokenizer.\"\"\"\u001b[39m\n",
       "    \u001b[38;5;28;01mdef\u001b[39;00m tokenize_batch(batch):\n",
       "        \u001b[38;5;28;01mreturn\u001b[39;00m tokenizer(batch[\u001b[33m'text'\u001b[39m], padding=\u001b[33m'max_length'\u001b[39m, truncation=\u001b[38;5;28;01mTrue\u001b[39;00m, return_tensors=\u001b[33m\"pt\"\u001b[39m)\n",
       "    \n",
       "    \u001b[38;5;28;01mreturn\u001b[39;00m dataset.map(tokenize_batch, batched=\u001b[38;5;28;01mTrue\u001b[39;00m, remove_columns=[\u001b[33m\"text\"\u001b[39m])\n",
       "\n",
       "\u001b[38;5;28;01mdef\u001b[39;00m setup_model(model_id, num_labels, label2id, id2label, dropout_rate=\u001b[32m0.2\u001b[39m, device=\u001b[33m\"cuda\"\u001b[39m):\n",
       "    \u001b[33m\"\"\"Initialize and configure the model with dropout and other optimizations.\"\"\"\u001b[39m    \n",
       "    \u001b[38;5;66;03m#Get model config first\u001b[39;00m\n",
       "    config = AutoConfig.from_pretrained(\n",
       "        model_id,\n",
       "        num_labels=num_labels,\n",
       "        label2id=label2id,\n",
       "        id2label=id2label,\n",
       "        attention_dropout=dropout_rate,          \u001b[38;5;66;03m# 20% attention dropout\u001b[39;00m\n",
       "        embedding_dropout=dropout_rate,          \u001b[38;5;66;03m# 20% embedding dropout\u001b[39;00m\n",
       "        mlp_dropout=dropout_rate,               \u001b[38;5;66;03m# 20% MLP dropout\u001b[39;00m\n",
       "        classifier_dropout=dropout_rate,\n",
       "        \u001b[38;5;66;03m# problem_type=\"single_label_classification\"\u001b[39;00m\n",
       "    )\n",
       "    \n",
       "    \u001b[38;5;66;03m# Check if Flash Attention is available\u001b[39;00m\n",
       "    \u001b[38;5;28;01mtry\u001b[39;00m:\n",
       "        \u001b[38;5;28;01mfrom\u001b[39;00m flash_attn \u001b[38;5;28;01mimport\u001b[39;00m __version__ \u001b[38;5;28;01mas\u001b[39;00m flash_attn_version\n",
       "        logger.info(f\"Flash Attention version {flash_attn_version} is installed\")\n",
       "        use_flash_attention = \u001b[38;5;28;01mTrue\u001b[39;00m\n",
       "    \u001b[38;5;28;01mexcept\u001b[39;00m ImportError:\n",
       "        logger.error(\u001b[33m\"Flash Attention is not installed. Using standard attention.\"\u001b[39m)\n",
       "        use_flash_attention = \u001b[38;5;28;01mFalse\u001b[39;00m\n",
       "    \n",
       "    \u001b[38;5;66;03m# Load model with config    \u001b[39;00m\n",
       "    \u001b[38;5;66;03m# Download the model from huggingface.co/models\u001b[39;00m\n",
       "    model = AutoModelForSequenceClassification.from_pretrained(\n",
       "        model_id,\n",
       "        config=config,\n",
       "        attn_implementation=\u001b[33m\"flash_attention_2\"\u001b[39m \u001b[38;5;28;01mif\u001b[39;00m use_flash_attention \u001b[38;5;28;01melse\u001b[39;00m \u001b[33m\"eager\"\u001b[39m,\n",
       "    )\n",
       "        \n",
       "    \u001b[38;5;66;03m# Enable gradient checkpointing for memory efficiency\u001b[39;00m\n",
       "    model.gradient_checkpointing_enable()\n",
       "    logger.info(\u001b[33m\"Enabled gradient checkpointing for memory efficiency\"\u001b[39m)\n",
       "\n",
       "    model = model.to(device)\n",
       "    \n",
       "    \u001b[38;5;66;03m# Print model parameters\u001b[39;00m\n",
       "    total_params = sum(p.numel() \u001b[38;5;28;01mfor\u001b[39;00m p \u001b[38;5;28;01min\u001b[39;00m model.parameters())\n",
       "    trainable_params = sum(p.numel() \u001b[38;5;28;01mfor\u001b[39;00m p \u001b[38;5;28;01min\u001b[39;00m model.parameters() \u001b[38;5;28;01mif\u001b[39;00m p.requires_grad)\n",
       "    logger.info(f\"Model has {total_params/\u001b[32m1e6\u001b[39m:.1f}M parameters ({trainable_params/\u001b[32m1e6\u001b[39m:.1f}M trainable)\")\n",
       "    \n",
       "    \u001b[38;5;28;01mreturn\u001b[39;00m model\n",
       "\n",
       "\u001b[38;5;66;03m# Metric helper method\u001b[39;00m\n",
       "\u001b[38;5;28;01mdef\u001b[39;00m compute_metrics(eval_pred):\n",
       "    predictions, labels = eval_pred\n",
       "    predictions = np.argmax(predictions, axis=\u001b[32m1\u001b[39m)\n",
       "    score = f1_score(\n",
       "            labels, predictions, labels=labels, pos_label=\u001b[32m1\u001b[39m, average=\u001b[33m\"weighted\"\u001b[39m\n",
       "        )\n",
       "    \u001b[38;5;28;01mreturn\u001b[39;00m {\u001b[33m\"f1\"\u001b[39m: float(score) \u001b[38;5;28;01mif\u001b[39;00m score == \u001b[32m1\u001b[39m \u001b[38;5;28;01melse\u001b[39;00m score}\n",
       "\n",
       "\n",
       "\u001b[38;5;28;01mdef\u001b[39;00m get_training_args(args):\n",
       "    \u001b[33m\"\"\"Configure training arguments with stronger regularization.\"\"\"\u001b[39m\n",
       "    \u001b[38;5;28;01mreturn\u001b[39;00m TrainingArguments(\n",
       "        output_dir=args.model_dir,\n",
       "        per_device_train_batch_size=args.train_batch_size,\n",
       "        per_device_eval_batch_size=args.eval_batch_size,\n",
       "        learning_rate=float(args.learning_rate),\n",
       "        num_train_epochs=args.epochs,\n",
       "        bf16=\u001b[38;5;28;01mTrue\u001b[39;00m,\n",
       "        optim=\u001b[33m\"adamw_torch_fused\"\u001b[39m,\n",
       "        logging_strategy=\u001b[33m\"steps\"\u001b[39m,\n",
       "        logging_steps=\u001b[32m50\u001b[39m,\n",
       "        eval_strategy=\u001b[33m\"epoch\"\u001b[39m,\n",
       "        logging_dir=f\"{args.output_data_dir}/logs\",\n",
       "        save_strategy=\u001b[33m\"epoch\"\u001b[39m,\n",
       "        save_total_limit=\u001b[32m2\u001b[39m,\n",
       "        load_best_model_at_end=\u001b[38;5;28;01mTrue\u001b[39;00m,\n",
       "        metric_for_best_model=\u001b[33m\"f1\"\u001b[39m,\n",
       "        report_to=\u001b[33m\"tensorboard\"\u001b[39m,\n",
       "        weight_decay=args.weight_decay,\n",
       "        warmup_steps=args.warmup_steps,\n",
       "        gradient_accumulation_steps=args.gradient_accumulation_steps\n",
       "    )\n",
       "\n",
       "\n",
       "\u001b[38;5;28;01mif\u001b[39;00m __name__ == \u001b[33m\"__main__\"\u001b[39m:\n",
       "\n",
       "    parser = argparse.ArgumentParser()\n",
       "\n",
       "    \u001b[38;5;66;03m# hyperparameters sent by the client are passed as command-line arguments to the script.\u001b[39;00m\n",
       "    parser.add_argument(\u001b[33m\"--epochs\"\u001b[39m, type=int, default=\u001b[32m3\u001b[39m)\n",
       "    parser.add_argument(\u001b[33m\"--train_batch_size\"\u001b[39m, type=int, default=\u001b[32m32\u001b[39m)\n",
       "    parser.add_argument(\u001b[33m\"--eval_batch_size\"\u001b[39m, type=int, default=\u001b[32m64\u001b[39m)\n",
       "    parser.add_argument(\u001b[33m\"--warmup_steps\"\u001b[39m, type=int, default=\u001b[32m500\u001b[39m)\n",
       "    parser.add_argument(\u001b[33m\"--model_name\"\u001b[39m, type=str)\n",
       "    parser.add_argument(\u001b[33m\"--model_max_length\"\u001b[39m, type=int, default=\u001b[32m512\u001b[39m)\n",
       "    parser.add_argument(\u001b[33m\"--learning_rate\"\u001b[39m, type=str, default=\u001b[32m5e-5\u001b[39m)\n",
       "    parser.add_argument(\u001b[33m\"--dropout_rate\"\u001b[39m, type=float, default=\u001b[32m0.3\u001b[39m)\n",
       "    parser.add_argument(\u001b[33m\"--weight_decay\"\u001b[39m, type=float, default=\u001b[32m0.0\u001b[39m)\n",
       "    parser.add_argument(\u001b[33m\"--gradient_accumulation_steps\"\u001b[39m, type=int, default=\u001b[32m0\u001b[39m)\n",
       "\n",
       "    \u001b[38;5;66;03m# Data, model, and output directories\u001b[39;00m\n",
       "    parser.add_argument(\u001b[33m\"--output_data_dir\"\u001b[39m, type=str, default=os.environ[\u001b[33m\"SM_OUTPUT_DATA_DIR\"\u001b[39m])\n",
       "    parser.add_argument(\u001b[33m\"--model_dir\"\u001b[39m, type=str, default=os.environ[\u001b[33m\"SM_MODEL_DIR\"\u001b[39m])\n",
       "    parser.add_argument(\u001b[33m\"--n_gpus\"\u001b[39m, type=str, default=os.environ[\u001b[33m\"SM_NUM_GPUS\"\u001b[39m])\n",
       "    parser.add_argument(\u001b[33m\"--training_dir\"\u001b[39m, type=str, default=os.environ[\u001b[33m\"SM_CHANNEL_TRAIN\"\u001b[39m])\n",
       "    parser.add_argument(\u001b[33m\"--test_dir\"\u001b[39m, type=str, default=os.environ[\u001b[33m\"SM_CHANNEL_TEST\"\u001b[39m])\n",
       "\n",
       "    args, _ = parser.parse_known_args()\n",
       "\n",
       "    device = torch.device(\u001b[33m\"cuda\"\u001b[39m \u001b[38;5;28;01mif\u001b[39;00m torch.cuda.is_available() \u001b[38;5;28;01melse\u001b[39;00m \u001b[33m\"cpu\"\u001b[39m)\n",
       "    logger.info(\u001b[33m\"Device detected: %s\"\u001b[39m, device)\n",
       "\n",
       "    \u001b[38;5;66;03m# Set random seed for reproducibility\u001b[39;00m\n",
       "    set_random_seed(\u001b[32m42\u001b[39m)\n",
       "\n",
       "    \u001b[38;5;66;03m# load datasets\u001b[39;00m\n",
       "    train_dataset = load_from_disk(args.training_dir)\n",
       "    test_dataset = load_from_disk(args.test_dir)\n",
       "\n",
       "    logger.info(f\" loaded train_dataset length is: {len(train_dataset)}\")\n",
       "    logger.info(f\" loaded test_dataset length is: {len(test_dataset)}\")\n",
       "\n",
       "    \u001b[38;5;66;03m# Setup tokenizer and tokenize datasets\u001b[39;00m\n",
       "    tokenizer = setup_tokenizer(args.model_name, args.model_max_length)\n",
       "    tokenized_train_dataset = tokenize_dataset(train_dataset, tokenizer)\n",
       "    tokenized_eval_dataset = tokenize_dataset(test_dataset, tokenizer)\n",
       "\n",
       "    \u001b[38;5;66;03m# Setup label mappings\u001b[39;00m\n",
       "    unique_labels = list(set(tokenized_train_dataset[\u001b[33m'labels'\u001b[39m]))\n",
       "    num_labels = len(unique_labels)\n",
       "    label2id = {label: i \u001b[38;5;28;01mfor\u001b[39;00m i, label \u001b[38;5;28;01min\u001b[39;00m enumerate(unique_labels)}\n",
       "    id2label = {i: label \u001b[38;5;28;01mfor\u001b[39;00m i, label \u001b[38;5;28;01min\u001b[39;00m enumerate(unique_labels)}\n",
       "\n",
       "    train_dataset = Dataset.from_dict({\n",
       "        \u001b[33m'input_ids'\u001b[39m: tokenized_train_dataset[\u001b[33m'input_ids'\u001b[39m],\n",
       "        \u001b[33m'attention_mask'\u001b[39m: tokenized_train_dataset[\u001b[33m'attention_mask'\u001b[39m],\n",
       "        \u001b[33m'labels'\u001b[39m: [label2id[label] \u001b[38;5;28;01mfor\u001b[39;00m label \u001b[38;5;28;01min\u001b[39;00m tokenized_train_dataset[\u001b[33m'labels'\u001b[39m]]\n",
       "    })\n",
       "\n",
       "    test_dataset = Dataset.from_dict({\n",
       "        \u001b[33m'input_ids'\u001b[39m: tokenized_eval_dataset[\u001b[33m'input_ids'\u001b[39m],\n",
       "        \u001b[33m'attention_mask'\u001b[39m: tokenized_eval_dataset[\u001b[33m'attention_mask'\u001b[39m],\n",
       "        \u001b[33m'labels'\u001b[39m: [label2id[label] \u001b[38;5;28;01mfor\u001b[39;00m label \u001b[38;5;28;01min\u001b[39;00m tokenized_eval_dataset[\u001b[33m'labels'\u001b[39m]]\n",
       "    })\n",
       "\n",
       "    \u001b[38;5;66;03m# Setup model with dropout\u001b[39;00m\n",
       "    model = setup_model(\n",
       "        args.model_name,\n",
       "        num_labels=num_labels,\n",
       "        label2id=label2id,\n",
       "        id2label=id2label,\n",
       "        dropout_rate=args.dropout_rate,\n",
       "        device=device\n",
       "    )\n",
       "\n",
       "    training_args = get_training_args(args)\n",
       "\n",
       "    \u001b[38;5;66;03m# Create a Trainer instance\u001b[39;00m\n",
       "    trainer = Trainer(\n",
       "        model=model,\n",
       "        args=training_args,\n",
       "        train_dataset=train_dataset,\n",
       "        eval_dataset=test_dataset,\n",
       "        compute_metrics=compute_metrics,\n",
       "        callbacks=[EarlyStoppingCallback(\n",
       "            early_stopping_patience=\u001b[32m5\u001b[39m,\n",
       "            early_stopping_threshold=\u001b[32m0.005\u001b[39m\n",
       "        )]\n",
       "    )\n",
       "\n",
       "    \u001b[38;5;66;03m# Train the model\u001b[39;00m\n",
       "    logger.info(\u001b[33m\"\\nStarting training...\"\u001b[39m)\n",
       "    trainer.train()\n",
       "    logger.info(\u001b[33m\"Training completed!\"\u001b[39m)\n",
       "\n",
       "    \u001b[38;5;66;03m# evaluate model\u001b[39;00m\n",
       "    eval_result = trainer.evaluate(eval_dataset=tokenized_eval_dataset)\n",
       "\n",
       "    \u001b[38;5;66;03m# writes eval result to file which can be accessed later in s3 ouput\u001b[39;00m\n",
       "    \u001b[38;5;28;01mwith\u001b[39;00m open(os.path.join(args.output_data_dir, \u001b[33m\"eval_results.txt\"\u001b[39m), \u001b[33m\"w\"\u001b[39m) \u001b[38;5;28;01mas\u001b[39;00m writer:\n",
       "        print(f\"***** Eval results *****\")\n",
       "        \u001b[38;5;28;01mfor\u001b[39;00m key, value \u001b[38;5;28;01min\u001b[39;00m sorted(eval_result.items()):\n",
       "            writer.write(f\"{key} = {value}\\n\")\n",
       "\n",
       "    \u001b[38;5;66;03m# Save the model\u001b[39;00m\n",
       "    trainer.save_model(args.model_dir)\n",
       "    tokenizer.save_pretrained(args.model_dir)\n"
      ]
     },
     "metadata": {},
     "output_type": "display_data"
    }
   ],
   "source": [
    "%pycat assets/train.py"
   ]
  },
  {
   "cell_type": "markdown",
   "id": "15dc5a55-e251-4654-ba0a-a8841ae087ab",
   "metadata": {
    "execution": {
     "iopub.execute_input": "2025-08-04T15:54:07.336876Z",
     "iopub.status.busy": "2025-08-04T15:54:07.336047Z",
     "iopub.status.idle": "2025-08-04T15:54:07.340703Z",
     "shell.execute_reply": "2025-08-04T15:54:07.339663Z",
     "shell.execute_reply.started": "2025-08-04T15:54:07.336845Z"
    }
   },
   "source": [
    "## 2.2 Define the training hyperpramaters"
   ]
  },
  {
   "cell_type": "code",
   "execution_count": 17,
   "id": "db6809be-0978-4e87-a91a-c6a9fae11e89",
   "metadata": {
    "execution": {
     "iopub.execute_input": "2025-08-04T16:01:05.101154Z",
     "iopub.status.busy": "2025-08-04T16:01:05.100852Z",
     "iopub.status.idle": "2025-08-04T16:01:05.105836Z",
     "shell.execute_reply": "2025-08-04T16:01:05.104729Z",
     "shell.execute_reply.started": "2025-08-04T16:01:05.101133Z"
    }
   },
   "outputs": [],
   "source": [
    "# hyperparameters which are passed to the training job\n",
    "hyperparameters={\n",
    "    'model_name': 'answerdotai/ModernBERT-base',\n",
    "    'model_max_length': 64, #max sequence length in tokens\n",
    "    'epochs': 2,\n",
    "    'train_batch_size': 32,\n",
    "    'eval_batch_size': 16,\n",
    "    'warmup_steps': 500,\n",
    "    'learning_rate': 5e-5,\n",
    "    'dropout_rate': 0.3,\n",
    "    'weight_decay': 0.2,\n",
    "    'gradient_accumulation_steps': 2\n",
    "}"
   ]
  },
  {
   "cell_type": "markdown",
   "id": "120df482-c5ab-4588-b969-d36839282714",
   "metadata": {},
   "source": [
    "## 2.3 Create sage Maker Estimator and fit it on the train and test data"
   ]
  },
  {
   "cell_type": "code",
   "execution_count": 23,
   "id": "1f6e0901-9281-4275-818b-d69d267721c2",
   "metadata": {
    "execution": {
     "iopub.execute_input": "2025-08-04T16:03:25.912683Z",
     "iopub.status.busy": "2025-08-04T16:03:25.912398Z",
     "iopub.status.idle": "2025-08-04T16:03:25.950228Z",
     "shell.execute_reply": "2025-08-04T16:03:25.949144Z",
     "shell.execute_reply.started": "2025-08-04T16:03:25.912661Z"
    }
   },
   "outputs": [],
   "source": [
    "from sagemaker.estimator import Estimator\n",
    "\n",
    "# Define your image URI (example for PyTorch)\n",
    "image_uri = \"763104351884.dkr.ecr.us-east-2.amazonaws.com/pytorch-training:2.7.1-gpu-py312-cu128-ubuntu22.04-sagemaker\"\n",
    "\n",
    "# Set up the estimator\n",
    "estimator = Estimator(\n",
    "    entry_point='train.py',\n",
    "    source_dir='./assets',\n",
    "    requirements_file='requirements.txt',  # Use this instead of dependencies\n",
    "    image_uri=image_uri,\n",
    "    role=get_execution_role(),\n",
    "    instance_count=1,\n",
    "    instance_type='ml.g5.xlarge',  # or your preferred instance type\n",
    "    input_mode='File',\n",
    "    output_path=f's3://{default_bucket}/training-output',\n",
    "    base_job_name='Modernbert-training',\n",
    "    keep_alive_period_in_seconds=1800,  # 30 minutes\n",
    "    disable_profiler=True,\n",
    "    debugger_hook_config=False,\n",
    "    max_run=86400,  # 24 hours max run time\n",
    "    sagemaker_session=sess,\n",
    "    # Hyperparameters\n",
    "    hyperparameters=hyperparameters,\n",
    ")\n"
   ]
  },
  {
   "cell_type": "code",
   "execution_count": 60,
   "id": "15e003ea-29c5-491b-96bb-7fd89b388433",
   "metadata": {
    "execution": {
     "iopub.execute_input": "2025-08-04T17:09:29.532450Z",
     "iopub.status.busy": "2025-08-04T17:09:29.532103Z",
     "iopub.status.idle": "2025-08-04T17:09:29.536175Z",
     "shell.execute_reply": "2025-08-04T17:09:29.535375Z",
     "shell.execute_reply.started": "2025-08-04T17:09:29.532425Z"
    },
    "scrolled": true
   },
   "outputs": [],
   "source": [
    "estimator.fit(\n",
    "  {'train': s3_path_train, 'test': s3_path_test}\n",
    ")"
   ]
  },
  {
   "cell_type": "code",
   "execution_count": null,
   "id": "695d2636-74ac-400c-ad71-75ce529d1490",
   "metadata": {},
   "outputs": [],
   "source": []
  },
  {
   "cell_type": "code",
   "execution_count": 61,
   "id": "178283e4-137e-4386-aaa2-9669cf94f5d4",
   "metadata": {
    "execution": {
     "iopub.execute_input": "2025-08-04T17:09:45.119317Z",
     "iopub.status.busy": "2025-08-04T17:09:45.118445Z",
     "iopub.status.idle": "2025-08-04T17:09:45.211042Z",
     "shell.execute_reply": "2025-08-04T17:09:45.210111Z",
     "shell.execute_reply.started": "2025-08-04T17:09:45.119279Z"
    }
   },
   "outputs": [],
   "source": [
    "# s3 model artefacts\n",
    "model_data = estimator.latest_training_job.describe()[\"ModelArtifacts\"][\"S3ModelArtifacts\"]\n",
    "model_data"
   ]
  },
  {
   "cell_type": "markdown",
   "id": "9c812775-c084-46bb-87c2-2d7ec0330f56",
   "metadata": {},
   "source": [
    "# 3. Deploy the Model for Inference"
   ]
  },
  {
   "cell_type": "markdown",
   "id": "41ada8ff-7dc9-4133-a008-840bd09542cb",
   "metadata": {
    "execution": {
     "iopub.execute_input": "2025-08-04T17:20:32.732747Z",
     "iopub.status.busy": "2025-08-04T17:20:32.732350Z",
     "iopub.status.idle": "2025-08-04T17:20:32.736574Z",
     "shell.execute_reply": "2025-08-04T17:20:32.735626Z",
     "shell.execute_reply.started": "2025-08-04T17:20:32.732721Z"
    }
   },
   "source": [
    "## 3.1 Create the inference script inference.py"
   ]
  },
  {
   "cell_type": "code",
   "execution_count": null,
   "id": "9fcffb0f-bdb6-439c-910d-fead05e53e3a",
   "metadata": {},
   "outputs": [],
   "source": []
  },
  {
   "cell_type": "markdown",
   "id": "c8c6f939-8e75-4542-91a4-65b9f9ad8c85",
   "metadata": {},
   "source": [
    "## 3.1 Load model Artifacts from S3"
   ]
  },
  {
   "cell_type": "code",
   "execution_count": 50,
   "id": "02101d83-fc73-43ea-b51f-dd114d2e92ca",
   "metadata": {
    "execution": {
     "iopub.execute_input": "2025-08-04T16:48:54.799324Z",
     "iopub.status.busy": "2025-08-04T16:48:54.799037Z",
     "iopub.status.idle": "2025-08-04T16:48:54.831907Z",
     "shell.execute_reply": "2025-08-04T16:48:54.831157Z",
     "shell.execute_reply.started": "2025-08-04T16:48:54.799304Z"
    },
    "scrolled": true
   },
   "outputs": [],
   "source": [
    "import sagemaker\n",
    "from sagemaker import Model\n",
    "from sagemaker.serializers import JSONSerializer\n",
    "from sagemaker.deserializers import JSONDeserializer\n",
    "\n",
    "\n",
    "# model_data = 's3://sagemaker-us-east-2-207567795090/training-output/Modernbert-training-2025-06-27-20-07-05-940/output/model.tar.gz'\n",
    "container = '763104351884.dkr.ecr.us-east-2.amazonaws.com/pytorch-inference:2.6.0-gpu-py312-cu124-ubuntu22.04-sagemaker'\n",
    "\n",
    "# Create model object\n",
    "model = Model(\n",
    "    entry_point=\"inference.py\",\n",
    "    source_dir=\"assets\",\n",
    "    model_data=model_data,\n",
    "    image_uri=container,\n",
    "    role=get_execution_role(),\n",
    "    predictor_cls=None,\n",
    "    env={\n",
    "        'CHECKPOINT_SELECTION': 'latest',  # or 'specific' or 'best'\n",
    "        'MODEL_CHECKPOINT': 'checkpoint-1188',  # used if CHECKPOINT_SELECTION='specific'\n",
    "        # 'SAGEMAKER_MODEL_SERVER_TIMEOUT': '3600',\n",
    "        # 'SAGEMAKER_MODEL_SERVER_WORKERS': '1'\n",
    "    }\n",
    ")\n",
    "\n",
    "\n"
   ]
  },
  {
   "cell_type": "markdown",
   "id": "f76cab97-d065-4480-90fa-0a7eecbf9fdd",
   "metadata": {},
   "source": [
    "## 3.2 Create Realtime Endpoint"
   ]
  },
  {
   "cell_type": "code",
   "execution_count": 51,
   "id": "f9e6225d-d836-47e7-ac2b-2caec666fe2b",
   "metadata": {
    "execution": {
     "iopub.execute_input": "2025-08-04T16:48:55.892119Z",
     "iopub.status.busy": "2025-08-04T16:48:55.891327Z",
     "iopub.status.idle": "2025-08-04T16:59:32.636999Z",
     "shell.execute_reply": "2025-08-04T16:59:32.636165Z",
     "shell.execute_reply.started": "2025-08-04T16:48:55.892089Z"
    }
   },
   "outputs": [
    {
     "name": "stderr",
     "output_type": "stream",
     "text": [
      "INFO:sagemaker:Repacking model artifact (s3://sagemaker-us-east-2-207567795090/training-output/Modernbert-training-2025-08-04-16-24-04-240/output/model.tar.gz), script artifact (inference), and dependencies ([]) into single tar.gz file located at s3://sagemaker-us-east-2-207567795090/pytorch-inference-2025-08-04-16-48-55-920/model.tar.gz. This may take some time depending on model size...\n",
      "INFO:sagemaker:Creating model with name: pytorch-inference-2025-08-04-16-53-30-116\n",
      "INFO:sagemaker:Creating endpoint-config with name modernBert-intentClassifier\n",
      "INFO:sagemaker:Creating endpoint with name modernBert-intentClassifier\n"
     ]
    },
    {
     "name": "stdout",
     "output_type": "stream",
     "text": [
      "-----------!"
     ]
    }
   ],
   "source": [
    "# Deploy the model to a GPU instance\n",
    "predictor = model.deploy(\n",
    "    initial_instance_count=1,\n",
    "    instance_type='ml.g5.xlarge',  # GPU instance\n",
    "    endpoint_name='modernBert-intentClassifier',\n",
    "    serializer=JSONSerializer(),\n",
    "    deserializer=JSONDeserializer()\n",
    ")"
   ]
  },
  {
   "cell_type": "markdown",
   "id": "e805429c-65ce-4c38-b907-cc88638a0af3",
   "metadata": {},
   "source": [
    "# 4 Make test predictions"
   ]
  },
  {
   "cell_type": "code",
   "execution_count": 55,
   "id": "bad3b9f9-886d-4270-b102-dd03ca188744",
   "metadata": {
    "execution": {
     "iopub.execute_input": "2025-08-04T17:02:24.732323Z",
     "iopub.status.busy": "2025-08-04T17:02:24.731931Z",
     "iopub.status.idle": "2025-08-04T17:02:24.737307Z",
     "shell.execute_reply": "2025-08-04T17:02:24.736258Z",
     "shell.execute_reply.started": "2025-08-04T17:02:24.732296Z"
    }
   },
   "outputs": [],
   "source": [
    "# Make predictions\n",
    "from sagemaker import Predictor\n",
    "\n",
    "# Create predictor from endpoint\n",
    "predictor = Predictor(\n",
    "    endpoint_name='modernBert-intentClassifier',\n",
    "    sagemaker_session=sess,\n",
    "    serializer=JSONSerializer(),\n",
    "    deserializer=JSONDeserializer()\n",
    ")\n",
    "\n"
   ]
  },
  {
   "cell_type": "code",
   "execution_count": 56,
   "id": "a77f75f0-0653-41d6-a799-b7a25f7a07f0",
   "metadata": {
    "execution": {
     "iopub.execute_input": "2025-08-04T17:02:27.828061Z",
     "iopub.status.busy": "2025-08-04T17:02:27.827565Z",
     "iopub.status.idle": "2025-08-04T17:02:32.065055Z",
     "shell.execute_reply": "2025-08-04T17:02:32.063754Z",
     "shell.execute_reply.started": "2025-08-04T17:02:27.828033Z"
    }
   },
   "outputs": [
    {
     "name": "stdout",
     "output_type": "stream",
     "text": [
      "{'predicted_class': 'TIME', 'confidence': 0.9996291399002075}\n"
     ]
    }
   ],
   "source": [
    "# Make prediction\n",
    "prompt = \"what time is my flight ?\"\n",
    "response = predictor.predict({'text': prompt})\n",
    "\n",
    "print(response)"
   ]
  },
  {
   "cell_type": "code",
   "execution_count": 57,
   "id": "990eb25b-dcdc-4246-be1b-98c848a561dc",
   "metadata": {
    "execution": {
     "iopub.execute_input": "2025-08-04T17:02:35.491554Z",
     "iopub.status.busy": "2025-08-04T17:02:35.491161Z",
     "iopub.status.idle": "2025-08-04T17:02:35.557993Z",
     "shell.execute_reply": "2025-08-04T17:02:35.557084Z",
     "shell.execute_reply.started": "2025-08-04T17:02:35.491529Z"
    }
   },
   "outputs": [
    {
     "name": "stdout",
     "output_type": "stream",
     "text": [
      "{'predicted_class': 'FLIGHT', 'confidence': 0.7404236793518066}\n"
     ]
    }
   ],
   "source": [
    "# Make prediction\n",
    "prompt = \"where is the gate of my flight ?\"\n",
    "response = predictor.predict({'text': prompt})\n",
    "\n",
    "print(response)"
   ]
  },
  {
   "cell_type": "code",
   "execution_count": 59,
   "id": "a17cff74-e004-4bf0-9ebc-32ab5c9923b5",
   "metadata": {
    "execution": {
     "iopub.execute_input": "2025-08-04T17:02:59.831466Z",
     "iopub.status.busy": "2025-08-04T17:02:59.831190Z",
     "iopub.status.idle": "2025-08-04T17:02:59.891689Z",
     "shell.execute_reply": "2025-08-04T17:02:59.887435Z",
     "shell.execute_reply.started": "2025-08-04T17:02:59.831446Z"
    }
   },
   "outputs": [
    {
     "name": "stdout",
     "output_type": "stream",
     "text": [
      "{'predicted_class': 'BAGGAGE', 'confidence': 0.7879071831703186}\n"
     ]
    }
   ],
   "source": [
    "# Make prediction\n",
    "prompt = \"where can i store my bags ?\"\n",
    "response = predictor.predict({'text': prompt})\n",
    "\n",
    "print(response)"
   ]
  },
  {
   "cell_type": "code",
   "execution_count": null,
   "id": "7d6b049b-1a54-4740-9729-1c5e19709918",
   "metadata": {},
   "outputs": [],
   "source": []
  },
  {
   "cell_type": "markdown",
   "id": "c4668fd3-124d-4e26-96ab-2e713d8053c4",
   "metadata": {},
   "source": [
    "# 5 cleanup"
   ]
  },
  {
   "cell_type": "code",
   "execution_count": null,
   "id": "8f7ba6e9-12fb-47a9-b0b2-f29cffecb186",
   "metadata": {},
   "outputs": [],
   "source": [
    "predictor.delete_endpoint()\n",
    "predictor.delete_endpoint_config()\n",
    "predictor.delete_model()"
   ]
  }
 ],
 "metadata": {
  "kernelspec": {
   "display_name": "ModernBert",
   "language": "python",
   "name": "modernbert"
  },
  "language_info": {
   "codemirror_mode": {
    "name": "ipython",
    "version": 3
   },
   "file_extension": ".py",
   "mimetype": "text/x-python",
   "name": "python",
   "nbconvert_exporter": "python",
   "pygments_lexer": "ipython3",
   "version": "3.12.9"
  }
 },
 "nbformat": 4,
 "nbformat_minor": 5
}
